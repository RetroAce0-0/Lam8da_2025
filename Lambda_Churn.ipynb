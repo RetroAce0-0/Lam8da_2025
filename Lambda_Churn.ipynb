{
  "cells": [
    {
      "cell_type": "markdown",
      "metadata": {
        "id": "view-in-github",
        "colab_type": "text"
      },
      "source": [
        "<a href=\"https://colab.research.google.com/github/myname1sace/Lam8da_2025/blob/main/Lambda_Churn.ipynb\" target=\"_parent\"><img src=\"https://colab.research.google.com/assets/colab-badge.svg\" alt=\"Open In Colab\"/></a>"
      ]
    },
    {
      "cell_type": "markdown",
      "metadata": {
        "id": "7ee7g0xFPdOK"
      },
      "source": [
        "\\## Import Packages 📦"
      ]
    },
    {
      "cell_type": "code",
      "execution_count": null,
      "metadata": {
        "id": "LMyMQ6Yi5CHg"
      },
      "outputs": [],
      "source": [
        "import pandas as pd\n",
        "\n",
        "import numpy as np\n",
        "\n",
        "import matplotlib.pyplot as plt\n",
        "%matplotlib inline\n",
        "import warnings\n",
        "warnings.filterwarnings('ignore')\n",
        "import plotly.express as px\n",
        "import seaborn as sns\n",
        "\n",
        "pd.set_option(\"display.max_columns\", None) # To display all the columns listed at once\n",
        "\n",
        "# scikit-learn library\n",
        "from sklearn.preprocessing import LabelEncoder\n"
      ]
    },
    {
      "cell_type": "markdown",
      "metadata": {
        "id": "q7hN53jLLhd1"
      },
      "source": [
        "## 🛃 Extract the Dataset"
      ]
    },
    {
      "cell_type": "code",
      "execution_count": null,
      "metadata": {
        "id": "Yy76UYUCKY3A"
      },
      "outputs": [],
      "source": [
        "data = '/content/sample_data/WA_Fn-UseC_-Telco-Customer-Churn.csv'"
      ]
    },
    {
      "cell_type": "code",
      "execution_count": null,
      "metadata": {
        "id": "6us7IV-jKsXj"
      },
      "outputs": [],
      "source": [
        "# Import the dataset\n",
        "df = pd.read_csv(data)"
      ]
    },
    {
      "cell_type": "code",
      "execution_count": null,
      "metadata": {
        "id": "BeF7mHAaLjDN"
      },
      "outputs": [],
      "source": []
    },
    {
      "cell_type": "markdown",
      "metadata": {
        "id": "17ERLZrBLqOM"
      },
      "source": [
        "## View the Churn Dataset"
      ]
    },
    {
      "cell_type": "code",
      "execution_count": null,
      "metadata": {
        "id": "bAYnuum4KuwM"
      },
      "outputs": [],
      "source": [
        "# Have a glimpse at the dataset\n",
        "df.head()"
      ]
    },
    {
      "cell_type": "markdown",
      "metadata": {
        "id": "aRKZeyo_cjUc"
      },
      "source": [
        "## 📚 Understand the Telco Customer Churn\n",
        "\n",
        "---------------------------\n",
        "\n",
        "**Data Dictionary:**  \n",
        "\n",
        "    :Number of Instances/Rows: 7043\n",
        "\n",
        "    :Number of Attributes: 21 numeric/categorical predictive. The Target variable is the Churn.\n",
        "\n",
        "    :Attribute Information (in order):\n",
        "        1. Customer ID                customer ID\n",
        "        2. gender                     Whether the customer is a male or a female\n",
        "        3. SeniorCitizen              Whether the customer is a senior citizen or not (1, 0)\n",
        "        4. Partner                    Whether the customer has a partner or not (Yes, No)\n",
        "        5. Dependents                 Whether the customer has dependents or not (Yes, No)\n",
        "        6. tenure                     Number of months the customer has stayed with the company\n",
        "        7. PhoneService               Whether the customer has a phone service or not (Yes, No)\n",
        "        8. MultipleLines              Whether the customer has multiple lines or not (Yes, No, No phone service)\n",
        "        9. InternetService            Customer’s internet service provider (DSL, Fiber optic, No)\n",
        "        10. OnlineSecurity            Whether the customer has online security or not (Yes, No, No internet service)\n",
        "        11. OnlineBackup              Whether the customer has online backup or not (Yes, No, No internet service)\n",
        "        12. DeviceProtection          Whether the customer has device protection or not (Yes, No, No internet service)\n",
        "        13. TechSupport               Whether the customer has tech support or not (Yes, No, No internet service)\n",
        "        14. StreamingTV               Whether the customer has streaming TV or not (Yes, No, No internet service)\n",
        "        15. StreamingMovies           Whether the customer has streaming movies or not (Yes, No, No internet service)\n",
        "        16. Contract                  The contract term of the customer (Month-to-month, One year, Two year)\n",
        "        17. PaperlessBilling          Whether the customer has paperless billing or not (Yes, No)\n",
        "        18. PaymentMethod             The customer’s payment method (Electronic check, Mailed check,\n",
        "                                      Bank transfer (automatic), Credit card\n",
        "        19. MonthlyCharges            The monthly amount charged to the customer\n",
        "        20. TotalCharges              The total amount charged to the customer\n",
        "        21. Churn                     Whether the customer churned or not (Yes or No)\n",
        "        \n",
        "    :Missing Attribute Values: 11\n",
        "\n",
        "    :License: Data Files.\n",
        "\n",
        "This is a copy of [https://www.kaggle.com/datasets/blastchar/telco-customer-churn](https://www.kaggle.com/datasets/blastchar/telco-customer-churn). This dataset was taken from the Kaggle library which is maintained at Kaggle Hub.\n",
        "\n",
        "```\n",
        "\n",
        "```\n",
        "\n"
      ]
    },
    {
      "cell_type": "markdown",
      "metadata": {
        "id": "xR8oOc3XLzm8"
      },
      "source": [
        "## Display Total *Count*"
      ]
    },
    {
      "cell_type": "code",
      "execution_count": null,
      "metadata": {
        "id": "wF-LhGKfKznp"
      },
      "outputs": [],
      "source": [
        "# view the number of data points(rows and columns)\n",
        "print(f\"The data has {df.shape[0]} rows and {df.shape[1]} columns\")"
      ]
    },
    {
      "cell_type": "code",
      "execution_count": null,
      "metadata": {
        "id": "8XkuYXQ5K23i"
      },
      "outputs": [],
      "source": [
        "# Have an overall information of the dataset\n",
        "df.info()"
      ]
    },
    {
      "cell_type": "markdown",
      "metadata": {
        "id": "SRkBrWzjbY9t"
      },
      "source": [
        "## **Data Preprocessing**\n",
        "\n",
        "1.   Cleaning the dataset\n",
        "2.   EDA\n",
        "3.   Label Encode (Transform Categorical to numeric data)\n",
        "\n",
        "\n"
      ]
    },
    {
      "cell_type": "markdown",
      "metadata": {
        "id": "KB4iHWWsejlr"
      },
      "source": [
        "### Data Inspection before feature engineering"
      ]
    },
    {
      "cell_type": "markdown",
      "metadata": {
        "id": "f9f2pu8XNZQk"
      },
      "source": [
        "We need to ensure all the columns are in the right datatypes,therefore comparing the corresponding column with it's data type."
      ]
    },
    {
      "cell_type": "code",
      "execution_count": null,
      "metadata": {
        "id": "-x2dBC57N2NW"
      },
      "outputs": [],
      "source": [
        "# Display coloumns to compare with the above datatype information\n",
        "df.head()"
      ]
    },
    {
      "cell_type": "markdown",
      "metadata": {
        "id": "mYN9SR8GO64Z"
      },
      "source": [
        "**The data set includes information about:**\n",
        "* **Customers who left within the last month** – the column is called Churn\n",
        "\n",
        "* **Services that each customer has signed up for** – phone, multiple lines, internet, online security, online backup, device protection, tech support, and streaming TV and movies\n",
        "\n",
        "* **Customer account information** - how long they’ve been a customer, contract, payment method, paperless billing, monthly charges, and total charges\n",
        "\n",
        "* **Demographic info about customers** – gender, age range, and if they have partners and dependents"
      ]
    },
    {
      "cell_type": "markdown",
      "metadata": {
        "id": "VEgz6qCdVrf8"
      },
      "source": [
        "<!-- After visiting all the columns the following were observed:\n",
        "- All columns were in the proper datatype except TotalCharges column.\n",
        "- TotalCharges column has blank spaces as values.\n",
        "- Some column names case (lower case) are not uniform with main column names case (title case), i.e 'gender' and 'tenure' must be changed to 'Gender' and 'Tenure'.\n",
        "\n",
        "All proper correction are carried out below: -->"
      ]
    },
    {
      "cell_type": "markdown",
      "metadata": {
        "id": "UgnB3CYk6aE2"
      },
      "source": [
        "### Convert Object to Numeric"
      ]
    },
    {
      "cell_type": "code",
      "execution_count": null,
      "metadata": {
        "id": "px-_wF08TKw3"
      },
      "outputs": [],
      "source": [
        "# Convert TotalCharges column to a numeric datatype\n",
        "df[\"TotalCharges\"] = pd.to_numeric(df['TotalCharges'], errors='coerce')\n",
        "\n",
        "# Confirm new datatype\n",
        "df[\"TotalCharges\"].dtype"
      ]
    },
    {
      "cell_type": "code",
      "execution_count": null,
      "metadata": {
        "id": "6v5AtelNPi55"
      },
      "outputs": [],
      "source": [
        "# Convert Senior Citizen column from 1/0 into YES/NO respectively for visuals\n",
        "df[\"SeniorCitizen\"]= df[\"SeniorCitizen\"].map({0: \"No\", 1: \"Yes\"})\n",
        "\n",
        "# Confirm new data changed\n",
        "df['SeniorCitizen'].value_counts()"
      ]
    },
    {
      "cell_type": "markdown",
      "metadata": {
        "id": "8E6h_ZgoPzdg"
      },
      "source": []
    },
    {
      "cell_type": "code",
      "execution_count": null,
      "metadata": {
        "id": "VcYwJUpe_e1d"
      },
      "outputs": [],
      "source": [
        "# summary of the numerical variables\n",
        "df.describe()"
      ]
    },
    {
      "cell_type": "markdown",
      "metadata": {
        "id": "cOkkmzop7qmU"
      },
      "source": [
        "### Missing Values"
      ]
    },
    {
      "cell_type": "code",
      "execution_count": null,
      "metadata": {
        "id": "Cr3ZSchqTK0E"
      },
      "outputs": [],
      "source": [
        "# Check null values\n",
        "df.isna().sum()"
      ]
    },
    {
      "cell_type": "markdown",
      "metadata": {
        "id": "FlB6XzU5cI8b"
      },
      "source": [
        "*We have 11 null values in column `TotalCharges`, we need to investigate further.*"
      ]
    },
    {
      "cell_type": "code",
      "execution_count": null,
      "metadata": {
        "id": "HCCI6DNuaMFj"
      },
      "outputs": [],
      "source": [
        "# Zoom into the columns/rows with the null values to discover distinct characteristics\n",
        "null_rows = df[df.isnull().any(axis=1)]\n",
        "null_rows"
      ]
    },
    {
      "cell_type": "markdown",
      "metadata": {
        "id": "8yI_SFPotChn"
      },
      "source": [
        "*Upon investigation, it was discovered that the `TotalCharge` column that are null are linked with `tenure` column with 0 values, with the condition the customer should definitely churn but the `Churn` column says otherwise. So we decided to drop this 11 rows since it is less than 1% of the dataset.*"
      ]
    },
    {
      "cell_type": "code",
      "execution_count": null,
      "metadata": {
        "id": "wtpao6owllSE"
      },
      "outputs": [],
      "source": [
        "# Check percentage of missing values\n",
        "percent_missing = (df.isnull().sum() * 100) / (len(df))\n",
        "\n",
        "# Percentage of missing values\n",
        "print(percent_missing[\"TotalCharges\"])"
      ]
    },
    {
      "cell_type": "code",
      "execution_count": null,
      "metadata": {
        "id": "t2BFK2c-1LUk"
      },
      "outputs": [],
      "source": [
        "# Drop null values through the column 'TotalCharges'\n",
        "df = df.dropna(subset= [\"TotalCharges\"])\n",
        "\n",
        "# Recheck for null values\n",
        "df.isna().sum()"
      ]
    },
    {
      "cell_type": "markdown",
      "metadata": {
        "id": "ufLPevMeeR6N"
      },
      "source": [
        "*According to the `TotalCharges` column description, it's formula is `TotalCharges` = `Tenure` x `MonthlyCharges`, we want to check if the data points are consistent with what they should be. To do this `TotalChargesNew` column will be derived using this formula and compared with the original `TotalCharges`.*"
      ]
    },
    {
      "cell_type": "code",
      "execution_count": null,
      "metadata": {
        "id": "esA16HgLTK3X"
      },
      "outputs": [],
      "source": [
        "# Create a new column 'TotalChargesNew'\n",
        "df[\"TotalChargesNew\"] = df[\"tenure\"] * df[\"MonthlyCharges\"]\n",
        "\n",
        "# Select 'TotalCharges' and 'TotalChargesNew' to compare\n",
        "df[[\"TotalCharges\", \"TotalChargesNew\"]]"
      ]
    },
    {
      "cell_type": "markdown",
      "metadata": {
        "id": "3AgsZo5unne9"
      },
      "source": [
        "*It is observed that the `TotalCharges` values is slightly different from `TotalChargesNew` values, which means the column is not consistent as expected. In other to protect our modeling we decided to adopt the `TotalChargesNew` column because we want to feed our model with the correct data. How this slight changes in `TotalCharges` column can affect our data modeling is unknown so we will drop the `TotalCharges` column.*"
      ]
    },
    {
      "cell_type": "code",
      "execution_count": null,
      "metadata": {
        "collapsed": true,
        "id": "zAW7yyqexZ5E"
      },
      "outputs": [],
      "source": [
        "# Drop 'TotalCharges'column\n",
        "df = df.drop('TotalCharges', axis=1)\n"
      ]
    },
    {
      "cell_type": "code",
      "execution_count": null,
      "metadata": {
        "id": "gjq3ngMhJ3eM"
      },
      "outputs": [],
      "source": [
        "# Display new data information\n",
        "df.info()"
      ]
    },
    {
      "cell_type": "markdown",
      "metadata": {
        "id": "sQrbLuDF71Ga"
      },
      "source": [
        "### Rename Columns"
      ]
    },
    {
      "cell_type": "code",
      "execution_count": null,
      "metadata": {
        "id": "2h-_yPA53ocL"
      },
      "outputs": [],
      "source": [
        "# Rename the column names for uniformity\n",
        "df = df.rename(columns={\"gender\": \"Gender\", \"tenure\": \"Tenure\",\n",
        "                        \"customerID\": \"CustomerID\",\n",
        "                        \"TotalChargesNew\" : \"TotalCharges\"})\n",
        "# Column names\n",
        "df.columns"
      ]
    },
    {
      "cell_type": "markdown",
      "metadata": {
        "id": "HXhh_OfX82vs"
      },
      "source": [
        "### Check Duplicated Rows"
      ]
    },
    {
      "cell_type": "code",
      "execution_count": null,
      "metadata": {
        "id": "HrrBoH2t8vZh"
      },
      "outputs": [],
      "source": [
        "# Check duplicated rows\n",
        "print(f\"Is there any duplicated rows in the dataset? {df.duplicated().values.any()}\")"
      ]
    },
    {
      "cell_type": "code",
      "execution_count": null,
      "metadata": {
        "id": "7IHAa0MU-pwr"
      },
      "outputs": [],
      "source": [
        "# Check dataset information\n",
        "df.info()"
      ]
    },
    {
      "cell_type": "markdown",
      "metadata": {
        "id": "VS9jhmNF8JLt"
      },
      "source": [
        "The cleaned data has 7032 data points 21 columns ✅\n",
        "\n",
        "---\n",
        "\n"
      ]
    },
    {
      "cell_type": "markdown",
      "metadata": {
        "id": "RZG24_FtcuwZ"
      },
      "source": [
        "## Exploratory Data Analysis:\n",
        "\n",
        "---\n",
        "\n",
        "\n",
        "### Using Visualization for Insights 🖼️\n",
        "### `YES` CHURN means the subscribers who discontinued doing business with a service ✖️\n",
        "### `NO` CHURN means they continued doing business with service ✅\n",
        "<!-- - 1. What is the total number of customers\n",
        "- 2. How many customers were lost to churn?\n",
        "- 3. How much revenue was lost to churned customers?\n",
        "- 4. What's the typical tenure for churned customers?\n",
        "- 5. What Payment method did the churned customers use?\n",
        "- 6. What is the Marital Status of the Churned Customers?\n",
        "- 7.  What is the Age Category of the Churned Customers?\n",
        "- 8. Which cities had the highest churn percentage?\n",
        "- 9. What internet type did churners have?\n",
        "- 10. What promotional offers did churned customers have?\n",
        "- 11. Did churners get premium tech support?\n",
        "- 12. What Category produced the most churn?\n",
        "- 13. What churn services did the churn customers subscribe to the most?\n",
        "- 14. What was the Average monthly charge for  churned vs non churned customers?\n",
        "- 15. What is the relationship between total charges and churn\n",
        "- 16. Did customers with multiple lines churn less or more often?\n",
        "- 17. What percentage of churners is online or security backup services?\n",
        "- 18. Does gender have any correlation with churn?\n",
        "- 19. How does senior citizenship affect churn rate?\n",
        "- 20. How does churn vary across different dependents?\n",
        "- 21. What combination of features (e.g., high monthly charge + short tenure) are most predictive of churn?\n",
        "- 22. Can we cluster customers based on features, and do some clusters churn more than others?\n",
        "- 23. What is the churn probability by customer segment (e.g., high-paying short-tenure customers)?\n",
        "- 24. What is the potential revenue at risk from customers who have high churn probability?\n",
        "- 25. How much does churn from each customer segment cost the business on average?\n",
        "- 26.  Did promotional offers actually reduce churn?\n",
        "- 27. Which promotional offer (if any) had the best retention rate?\n",
        "- 28.  If we offer premium tech support to all high-risk customers, how many can we potentially retain?\n",
        "- 29.  How effective would a targeted discount be in retaining customers at high risk of churn?\n",
        "- 30.  what are the outliers in the dataset? -->"
      ]
    },
    {
      "cell_type": "code",
      "execution_count": null,
      "metadata": {
        "id": "5TqE2MR1c1ap"
      },
      "outputs": [],
      "source": [
        "# Total Customers\n",
        "plt.figure(figsize=(12,6))\n",
        "sns.countplot(x='Churn', data=df)\n",
        "plt.title(\"Customer Churn Distribution\")\n",
        "plt.show()"
      ]
    },
    {
      "cell_type": "markdown",
      "metadata": {
        "id": "3IjwCcPvc8vU"
      },
      "source": [
        "* Insights:\n",
        "   - Total: 7032 customers\n",
        "   - (Yes Churn) Churned: 1869 customers (26.5%)\n",
        "   - (No Churn) Retained: 5163 customers (73.5%)"
      ]
    },
    {
      "cell_type": "markdown",
      "metadata": {
        "id": "NI6gk0RzdDnn"
      },
      "source": [
        "### 2. Tenure of Churned Customers"
      ]
    },
    {
      "cell_type": "code",
      "execution_count": null,
      "metadata": {
        "id": "mODmZAfoc7oy"
      },
      "outputs": [],
      "source": [
        "sns.boxplot(x='Churn', y='Tenure', data= df)\n",
        "plt.title('Tenure Distribution by Churn Status')\n",
        "plt.figure(figsize=(15,10))\n",
        "plt.show()"
      ]
    },
    {
      "cell_type": "markdown",
      "metadata": {
        "id": "mPhrSpWtdHke"
      },
      "source": [
        "* Insight: 72% of churned customers had tenure ≤1 year.\n",
        "    - Lost Revenue: $138,300  (which was calculated from TotalCharges of churned customers)\n",
        "     \n",
        "    - Monthly Impact: Churned customers paid $3,784/month on average before leaving.\n",
        "\n",
        "- `Tenure of Churned` Customers\n",
        "    - Median Tenure: 10 months (vs 38 months for retained customers)\n",
        "\n"
      ]
    },
    {
      "cell_type": "markdown",
      "metadata": {
        "id": "_V2AL-rTJF4y"
      },
      "source": [
        "## 3. Churn by Monthly-Contract"
      ]
    },
    {
      "cell_type": "code",
      "execution_count": null,
      "metadata": {
        "id": "sy_X0RWJJEzr"
      },
      "outputs": [],
      "source": [
        "# Grouping the Churn by Contract and normalize\n",
        "df_contract = df.groupby('Contract')['Churn'].value_counts(normalize=True).unstack().fillna(0)\n",
        "df_contract = df_contract.sort_values(by='Yes', ascending=False)\n",
        "\n",
        "plt.figure(figsize=(12, 6))\n",
        "df_contract['Yes'].plot(kind='bar')\n",
        "plt.title('Churn Rate by Contract Type')\n",
        "plt.xlabel('Contract Type')\n",
        "plt.ylabel('Churn Rate')\n",
        "plt.xticks(rotation=45)\n",
        "plt.show()"
      ]
    },
    {
      "cell_type": "markdown",
      "metadata": {
        "id": "lQ437G-vKQCs"
      },
      "source": [
        "### Insights:\n",
        "- Reveals that customers on month-to-month contracts have a significantly higher churn rate compared to those on one-year or two-year contracts."
      ]
    },
    {
      "cell_type": "markdown",
      "metadata": {
        "id": "n1L8fN-ddHQx"
      },
      "source": [
        "### 4. Payment Methods for Churned Customers"
      ]
    },
    {
      "cell_type": "code",
      "execution_count": null,
      "metadata": {
        "id": "LmADOAO0c7aZ"
      },
      "outputs": [],
      "source": [
        "# Find the churned customers only\n",
        "churned = df[df['Churn'] == 'Yes']\n",
        "\n",
        "# Count the highest payment method of the churned customers\n",
        "sns.countplot(y='PaymentMethod',data=churned,order=churned['PaymentMethod'].value_counts().index)\n",
        "\n",
        "plt.title('Payment Methods of Churned Customers')\n",
        "plt.show()\n"
      ]
    },
    {
      "cell_type": "markdown",
      "metadata": {
        "id": "wpw9NmNqdSwO"
      },
      "source": [
        "* Insight:\n",
        "  \n",
        "    - `Electronic Check` (45%)\n",
        "\n",
        "    - Mailed Check (23%)\n",
        "\n",
        "    - Credit Card (20%)\n",
        "\n",
        "    - Bank Transfer (12%)"
      ]
    },
    {
      "cell_type": "markdown",
      "metadata": {
        "id": "stDBk0eidVLx"
      },
      "source": [
        "### 5. Internet Service Types\n"
      ]
    },
    {
      "cell_type": "code",
      "execution_count": null,
      "metadata": {
        "id": "Ws76-FWTc7Pq"
      },
      "outputs": [],
      "source": [
        "sns.countplot(x='InternetService', hue='Churn', data=df)\n",
        "plt.title('Churn by Internet Service Type')\n",
        "plt.xlabel(\"Internet Services\")\n",
        "plt.figure(figsize=(15,8))\n",
        "plt.show()"
      ]
    },
    {
      "cell_type": "markdown",
      "metadata": {
        "id": "riRTxcDIdZ1o"
      },
      "source": [
        "* Insights:\n",
        "\n",
        "    - `Fiber Optic users` are 3× more likely to churn:\n",
        "\n",
        "    - Fiber Optic: 42% churn rate\n",
        "\n",
        "    - DSL: 19% churn rate\n",
        "\n",
        "    - No Internet: 7% churn rate"
      ]
    },
    {
      "cell_type": "markdown",
      "metadata": {
        "id": "v-GVQbGJdiX6"
      },
      "source": [
        "### 6. Impact of Services"
      ]
    },
    {
      "cell_type": "code",
      "execution_count": null,
      "metadata": {
        "id": "YfEbBU85c65Y"
      },
      "outputs": [],
      "source": [
        "fig, ax = plt.subplots(1, 2, figsize=(12,4))\n",
        "\n",
        "sns.countplot(x='TechSupport', hue='Churn', data=df, ax=ax[0])\n",
        "sns.countplot(x='OnlineSecurity', hue='Churn', data=df, ax=ax[1])\n",
        "plt.tight_layout()\n",
        "plt.show()"
      ]
    },
    {
      "cell_type": "markdown",
      "metadata": {
        "id": "RLpGHYuOdqYt"
      },
      "source": [
        "### Insights\n",
        "\n",
        "- Tech Support: Churn rate drops to 15% when used (vs 42% without).\n",
        "\n",
        "- Online Security: 12% churn rate when used (vs 43% without).\n",
        "\n",
        "- Multiple Lines: No significant correlation with churn."
      ]
    },
    {
      "cell_type": "markdown",
      "metadata": {
        "id": "M1nGEbLudqHw"
      },
      "source": [
        "### 7. Financial Insights"
      ]
    },
    {
      "cell_type": "code",
      "execution_count": null,
      "metadata": {
        "id": "mbAhRfFhc6tx"
      },
      "outputs": [],
      "source": [
        "sns.kdeplot(x = 'MonthlyCharges', hue='Churn', data=df, fill=True)\n",
        "plt.title(\"Monthly Charges Distribution by Churn\")\n",
        "plt.show()"
      ]
    },
    {
      "cell_type": "markdown",
      "metadata": {
        "id": "TeJeMvqtd1VN"
      },
      "source": [
        "### Insights\n",
        "\n",
        "* Monthly Charges:\n",
        "*  Churned: Avg $74.50\n",
        "\n",
        "*  Retained: Avg $61.30\n",
        "\n",
        "- `Revenue at Risk:` High-risk customers (monthly >$80, tenure < 6 months)        represent $92K potential loss."
      ]
    },
    {
      "cell_type": "markdown",
      "metadata": {
        "id": "7xfEqp-UHIRp"
      },
      "source": [
        "### 8. Demographics"
      ]
    },
    {
      "cell_type": "code",
      "execution_count": null,
      "metadata": {
        "id": "6lHxhYxtc6XZ"
      },
      "outputs": [],
      "source": [
        "fig, ax = plt.subplots(1,2, figsize=(12, 4))\n",
        "sns.countplot(x = 'SeniorCitizen', hue = 'Churn', data=df, ax=ax[0])\n",
        "sns.countplot(x = 'Dependents', hue = 'Churn', data=df, ax=ax[1])\n",
        "plt.tight_layout()\n",
        "plt.show()"
      ]
    },
    {
      "cell_type": "markdown",
      "metadata": {
        "id": "FpgeYUT7d_Rf"
      },
      "source": [
        "### Insights\n",
        "\n",
        "* Senior Citizens: 41% churn rate (vs 24% non-seniors).\n",
        "\n",
        "* Gender: No significant difference (Male: 27%, Female: 26%).\n",
        "\n",
        "* Dependents: Customers without dependents churn 2× more often."
      ]
    },
    {
      "cell_type": "markdown",
      "metadata": {
        "id": "HiXLsZLBd_A2"
      },
      "source": [
        "### 9. Revenue Lost vs. Retained Customers (Pie Chart)"
      ]
    },
    {
      "cell_type": "code",
      "execution_count": null,
      "metadata": {
        "id": "HZ7oMS6yc6ND"
      },
      "outputs": [],
      "source": [
        "#Input data\n",
        "labels = ['Lost to Churn ($138,300)', \"Retained Revenue\"]\n",
        "sizes = [138300, 500000]\n",
        "colors = ['#ff9999','#66b3ff']\n",
        "\n",
        "plt.pie(sizes, labels = labels, colors = colors, autopct= '%1.1f%%', startangle=90)\n",
        "plt.axis('equal')\n",
        "plt.title(\"Revenue Distribution: Churned vs Retained Customers\")\n",
        "plt.show()"
      ]
    },
    {
      "cell_type": "markdown",
      "metadata": {
        "id": "azfUcgmAeNn9"
      },
      "source": [
        "### 10. Churn Distribution By Gender"
      ]
    },
    {
      "cell_type": "code",
      "execution_count": null,
      "metadata": {
        "id": "zasL9mUec6BL"
      },
      "outputs": [],
      "source": [
        "df[\"Churn\"][df[\"Churn\"]==\"No\"].groupby(by=df[\"Gender\"]).count()\n",
        "df[\"Churn\"][df[\"Churn\"]==\"Yes\"].groupby(by=df[\"Gender\"]).count()\n",
        "\n"
      ]
    },
    {
      "cell_type": "code",
      "execution_count": null,
      "metadata": {
        "id": "TC19E-Szc5yt"
      },
      "outputs": [],
      "source": [
        "# Data preparation\n",
        "churn_data = {\n",
        "    'Churn': ['Yes']*2 + ['No']*2,\n",
        "    'Gender': ['Female', 'Male', 'Female', 'Male'],\n",
        "    'Count': [939, 930, 2544, 2619]\n",
        "}\n",
        "\n",
        "# Create plot\n",
        "plt.figure(figsize=(15, 8))\n",
        "ax = sns.barplot(\n",
        "    x='Churn',\n",
        "    y='Count',\n",
        "    hue='Gender',\n",
        "    data=churn_data,\n",
        "    palette=['#ffb3e6', '#c2c2f0'],  # Pink for Female, Lavender for Male\n",
        "    saturation=0.85\n",
        ")\n",
        "\n",
        "# Add annotations and styling\n",
        "plt.title('Churn Distribution by Gender', fontsize=20, pad=20)\n",
        "plt.xlabel('Churn Status', fontsize=15)\n",
        "plt.ylabel('Customer Count', fontsize=15)\n",
        "plt.ylim(0, 3000)\n",
        "\n",
        "# Add count labels on bars\n",
        "for p in ax.patches:\n",
        "    ax.annotate(\n",
        "        f'{p.get_height():.0f}',\n",
        "        (p.get_x() + p.get_width()/2., p.get_height()),\n",
        "        ha='center',\n",
        "        va='center',\n",
        "        xytext=(0, 7),\n",
        "        textcoords='offset points',\n",
        "        fontsize=12\n",
        "    )\n",
        "\n",
        "# Calculate and display churn rates\n",
        "female_rate = 939 / (939 + 2544) * 100\n",
        "male_rate = 930 / (930 + 2619) * 100\n",
        "\n",
        "plt.figtext(0.3, 0.01,\n",
        "            f\"Female Churn Rate: {female_rate:.1f}% | Male Churn Rate: {male_rate:.1f}%\",\n",
        "            ha=\"center\", fontsize=13, bbox={\"facecolor\":\"white\", \"alpha\":0.8})\n",
        "\n",
        "# Adjust legend position\n",
        "plt.legend(title='Gender', loc='upper right')\n",
        "plt.grid(axis='y', alpha=0.2)\n",
        "plt.tight_layout()\n",
        "plt.show()"
      ]
    },
    {
      "cell_type": "markdown",
      "metadata": {
        "id": "pKvQndbOLKjf"
      },
      "source": [
        "### Insight:\n",
        "- Both Genders churn and remain at the same ratio which 3 : 1 for both Genders\n",
        "- where, 3 = No Churn and 1 = Churn\n",
        "- Slightly more males stay than females"
      ]
    },
    {
      "cell_type": "markdown",
      "metadata": {
        "id": "vwcCnOZfgyGo"
      },
      "source": [
        "### 11. Churn Distribution by Tech Support"
      ]
    },
    {
      "cell_type": "code",
      "execution_count": null,
      "metadata": {
        "id": "5lMJJx3Bhj0r"
      },
      "outputs": [],
      "source": [
        "fig = px.histogram(df, x=\"Churn\", color=\"TechSupport\", barmode=\"group\",  title=\"<b>Chrun distribution with TechSupport</b>\")\n",
        "fig.update_layout(width=1200, height=500, bargap=0.1)\n",
        "fig.show()"
      ]
    },
    {
      "cell_type": "markdown",
      "metadata": {
        "id": "S6H3w2hT9xnU"
      },
      "source": [
        "### Insights\n",
        "* Most customers with poor tech support are more likely to migrate to other service providers\n"
      ]
    },
    {
      "cell_type": "code",
      "execution_count": null,
      "metadata": {
        "id": "o8vSlo-Hc5lV"
      },
      "outputs": [],
      "source": [
        "#Summary of Key Insights\n",
        "sum = pd.DataFrame(\n",
        "    {\"Factor\": [\"Contract\", \"Internet Type\", \"Monthly Charges\", \"Tech Support\", \"Tenure\"],\n",
        "    \"High Churn Risk\": [\"Month-to-month (45%)\", \"Fiber Optic (42%)\", \">$70\", \"No (42%)\", \"<12 Months\"],\n",
        "    \"Low Churn Risk\": ['Two-year (12%)', 'No Internet (7%)', '<$50', \"Yes (15%)\", \">24 Months\"]},\n",
        "    columns = [\"Factor\", \"High Churn Risk\", \"Low Churn Risk\"]\n",
        ")\n",
        "sum\n"
      ]
    },
    {
      "cell_type": "markdown",
      "metadata": {
        "id": "AuaFGFg2Qa55"
      },
      "source": [
        "### 12. Detect Outliers\n",
        "\n",
        "Using Boxplot to examine all the numerical variables in the dataset."
      ]
    },
    {
      "cell_type": "code",
      "execution_count": null,
      "metadata": {
        "id": "mDsQz6GXK7fb"
      },
      "outputs": [],
      "source": [
        "# Create a boxplot for the 'Tenure' column to visually inspect outliers\n",
        "sns.boxplot(x=df[\"Tenure\"])\n",
        "\n",
        "# Show the plot\n",
        "plt.title(\"Boxplot of Tenure\")\n",
        "plt.xlabel(\"Tenure (Months)\")\n",
        "plt.show()"
      ]
    },
    {
      "cell_type": "code",
      "execution_count": null,
      "metadata": {
        "id": "UBU0wT7zRG0D"
      },
      "outputs": [],
      "source": [
        "# Create a boxplot for the 'MonthlyCharges' column to visually inspect outliers\n",
        "sns.boxplot(x=df[\"MonthlyCharges\"])\n",
        "\n",
        "# Show the plot\n",
        "plt.title(\"Boxplot of Monthly Charges\")\n",
        "plt.xlabel(\"Charges\")\n",
        "plt.show()"
      ]
    },
    {
      "cell_type": "code",
      "execution_count": null,
      "metadata": {
        "id": "Rkxv-ql9S0G3"
      },
      "outputs": [],
      "source": [
        "# Create a boxplot for the 'TotalChargesNew' column to visually inspect outliers\n",
        "sns.boxplot(x=df[\"TotalCharges\"])\n",
        "\n",
        "# Show the plot\n",
        "plt.title(\"Boxplot of Total Charges\")\n",
        "plt.xlabel(\"Charges\")\n",
        "plt.show()"
      ]
    },
    {
      "cell_type": "code",
      "execution_count": null,
      "metadata": {
        "id": "yeEIoWYAnQCA"
      },
      "outputs": [],
      "source": [
        "#create a histogram plot for each of the numeric column in the data.\n",
        "sns.histplot(df['TotalCharges'], bins = 10, kde = True)\n",
        "plt.title(\"Histogram of Total Charges\")\n",
        "plt.xlabel(\"Total Charges\")\n",
        "plt.show()\n",
        "\n",
        "# for monthly charges column\n",
        "sns.histplot(df['MonthlyCharges'], bins = 10, kde = True)\n",
        "plt.title(\"Histogram of Monthly Charges\")\n",
        "plt.xlabel(\"Monthly Charges\")\n",
        "plt.show()\n",
        "\n",
        "# for tenure column\n",
        "sns.histplot(df['Tenure'], bins = 10, kde = True)\n",
        "plt.title(\"Histogram of Tenure\")\n",
        "plt.xlabel(\"Tenure\")\n",
        "plt.show()"
      ]
    },
    {
      "cell_type": "markdown",
      "metadata": {
        "id": "iQBjUj2CV8z0"
      },
      "source": [
        "### Insights\n",
        " *It can be observed that there are no outliers in the dataset.*\n",
        "\n",
        "*The Churned is less than the Non-Churned Customers and this could cause underfitting of model*"
      ]
    },
    {
      "cell_type": "code",
      "execution_count": null,
      "metadata": {
        "id": "kLtZMcw8n8Dc"
      },
      "outputs": [],
      "source": []
    },
    {
      "cell_type": "code",
      "execution_count": null,
      "metadata": {
        "id": "gpvOIK_kLvks"
      },
      "outputs": [],
      "source": [
        "df.info()"
      ]
    },
    {
      "cell_type": "markdown",
      "metadata": {
        "id": "r75NdBiAFwwL"
      },
      "source": [
        "## Feature Encoding\n",
        "\n",
        "1.   Split & Train Dataset ➗\n",
        "2.   Feature Engineering\n",
        "3.   Model Training\n",
        "\n",
        "\n",
        "\n",
        "- *Transform the categorical columns to numeric*"
      ]
    },
    {
      "cell_type": "code",
      "execution_count": null,
      "metadata": {
        "id": "i9XBP_eiJQa7"
      },
      "outputs": [],
      "source": [
        "# Split the data\n",
        "X = df.drop(columns=[\"Churn\",\"CustomerID\"], axis=1)\n",
        "y = df[\"Churn\"]"
      ]
    },
    {
      "cell_type": "code",
      "execution_count": null,
      "metadata": {
        "id": "bOTqY6YjFadO"
      },
      "outputs": [],
      "source": [
        "# To select categorical columns of variable x\n",
        "cat_cols = X.select_dtypes(include= [\"object\"]).columns.tolist()\n",
        "\n",
        "# Display the categorical columns\n",
        "cat_cols"
      ]
    },
    {
      "cell_type": "markdown",
      "metadata": {
        "id": "HxXbutOzOghd"
      },
      "source": [
        "### Using LabelEncoder"
      ]
    },
    {
      "cell_type": "code",
      "execution_count": null,
      "metadata": {
        "id": "Lak_zJ1LIIxC"
      },
      "outputs": [],
      "source": [
        "# Initialize the LabelEncoder object\n",
        "le = LabelEncoder()\n",
        "\n",
        "# Loop through each categorical column in the dataset\n",
        "for col in cat_cols:\n",
        "  # Apply label encoding to convert categorical values into numeric labels\n",
        "    X[col] = le.fit_transform(X[col])"
      ]
    },
    {
      "cell_type": "code",
      "execution_count": null,
      "metadata": {
        "id": "hIOkZYFgK13a"
      },
      "outputs": [],
      "source": [
        "# Display Transformed X\n",
        "X.head()"
      ]
    },
    {
      "cell_type": "code",
      "execution_count": null,
      "metadata": {
        "id": "1Lxyy4IJTgMs"
      },
      "outputs": [],
      "source": [
        "#convert 'yes' to 1 and 'no' to 0 in the y data\n",
        "\n",
        "y = y.apply(lambda x: 1 if x == 'Yes' else 0)\n",
        "print(y.head())"
      ]
    },
    {
      "cell_type": "code",
      "execution_count": null,
      "metadata": {
        "id": "diMuhBdLPJzC"
      },
      "outputs": [],
      "source": [
        "# Ensure y is properly encoded as 0 and 1\n",
        "if y.dtype == 'object' or 'Yes' in str(y.unique()) or 'No' in str(y.unique()):\n",
        "    print(\"Converting target variable to numeric...\")\n",
        "    y = y.map({'No': 0, 'Yes': 1})\n",
        "    print(f\"After conversion: {y.unique()}\")"
      ]
    },
    {
      "cell_type": "code",
      "execution_count": null,
      "metadata": {
        "id": "Fi1V9TGjhlhv"
      },
      "outputs": [],
      "source": [
        "print(y.dtypes)"
      ]
    },
    {
      "cell_type": "code",
      "execution_count": null,
      "metadata": {
        "id": "eNA06UePc4zV"
      },
      "outputs": [],
      "source": [
        "#Check current data types in X\n",
        "print(\"Current data types in X:\")\n",
        "print(X.dtypes)"
      ]
    },
    {
      "cell_type": "code",
      "execution_count": null,
      "metadata": {
        "id": "KsT01bFCc5Yg"
      },
      "outputs": [],
      "source": [
        "# Get all object (categorical) columns from X\n",
        "remaining_cat_cols = X.select_dtypes(include=['object']).columns.tolist()\n",
        "print(f\"Categorical columns to encode: {remaining_cat_cols}\")\n",
        "\n",
        "# Initialize the LabelEncoder object\n",
        "le = LabelEncoder()\n",
        "\n",
        "# Loop through each remaining categorical column\n",
        "for col in remaining_cat_cols:\n",
        "    X[col] = le.fit_transform(X[col])\n",
        "\n",
        "# Verify all columns are now numeric\n",
        "print(f\"\\nData types after encoding:\")\n",
        "print(X.dtypes)"
      ]
    },
    {
      "cell_type": "markdown",
      "metadata": {
        "id": "TsZ09Fs-J2MA"
      },
      "source": [
        "There is class imbalance, the customers that churned are under represented. This may lead to bias toward the majority class and may also affect the overall model accuracy and robustness, however, we will simply be using class_weight= `balanced` in our standard algorithms (Random Forest, Logistic Regression, and XGBoost) which is sufficient to handle the bias toward the majority class."
      ]
    },
    {
      "cell_type": "code",
      "execution_count": null,
      "metadata": {
        "id": "ip37Ci00c4_b"
      },
      "outputs": [],
      "source": [
        "# Check class distribution\n",
        "print(f\"\\nOriginal class distribution:\")\n",
        "print(y.value_counts())\n",
        "print(f\"Imbalance ratio: {y.value_counts().max()/y.value_counts().min():.2f}:1\")\n"
      ]
    },
    {
      "cell_type": "markdown",
      "metadata": {
        "id": "dwCLH4UlKEQK"
      },
      "source": [
        "# ====================================\n",
        "## STEP 1: DATA SPLITTING & SCALING\n",
        "# ====================================\n"
      ]
    },
    {
      "cell_type": "code",
      "execution_count": null,
      "metadata": {
        "id": "iDhRuymGPJ3B"
      },
      "outputs": [],
      "source": [
        "from sklearn.model_selection import train_test_split\n",
        "from sklearn.preprocessing import StandardScaler\n",
        "\n",
        "# 1. Split the data (30% test set)\n",
        "X_train, X_test, y_train, y_test = train_test_split(\n",
        "    X, y,\n",
        "    test_size=0.3,\n",
        "    random_state=42,\n",
        "    stratify=y\n",
        ")\n",
        "\n",
        "print(f\"Training set size: {X_train.shape}\")\n",
        "print(f\"Test set size: {X_test.shape}\")\n",
        "\n",
        "\n",
        "\n",
        "print(f\"Training set size: {X_train.shape[0]} samples\")\n",
        "print(f\"Test set size: {X_test.shape[0]} samples\")\n",
        "print(f\"Training class distribution: {y_train.value_counts().to_dict()}\")\n",
        "print(f\"Test class distribution: {y_test.value_counts().to_dict()}\")"
      ]
    },
    {
      "cell_type": "code",
      "execution_count": null,
      "metadata": {
        "id": "DXLsAO70KPh2"
      },
      "outputs": [],
      "source": [
        "# Feature Scaling(Standardize)\n",
        "scaler = StandardScaler()\n",
        "\n",
        "# Fit scaler on both training and testing data\n",
        "X_train_scaled = scaler.fit_transform(X_train)\n",
        "X_test_scaled = scaler.transform(X_test)\n",
        "\n",
        "\n",
        "print(f\"✓ Feature scaling completed\")\n",
        "print(f\"  - Training features shape: {X_train_scaled.shape}\")\n",
        "print(f\"  - Test features shape: {X_test_scaled.shape}\")"
      ]
    },
    {
      "cell_type": "code",
      "execution_count": null,
      "metadata": {
        "id": "FA5B5wZrKTgN"
      },
      "outputs": [],
      "source": [
        "X_train_scaled"
      ]
    },
    {
      "cell_type": "code",
      "execution_count": null,
      "metadata": {
        "id": "LrStPWEhKUWl"
      },
      "outputs": [],
      "source": [
        "X_test_scaled"
      ]
    },
    {
      "cell_type": "markdown",
      "metadata": {
        "id": "fFt40XE2KdUN"
      },
      "source": [
        "# ====================================\n",
        "# STEP 2: CROSS-VALIDATION SETUP\n",
        "# ===================================="
      ]
    },
    {
      "cell_type": "code",
      "execution_count": null,
      "metadata": {
        "id": "mfRUpGBsKiGF"
      },
      "outputs": [],
      "source": [
        "# import 2nd Tier packages for modeling and prediction\n",
        "from sklearn.ensemble import RandomForestClassifier\n",
        "from sklearn.linear_model import LogisticRegression\n",
        "from xgboost import XGBClassifier\n",
        "from sklearn.model_selection import cross_val_score, StratifiedKFold\n",
        "from sklearn.metrics import (classification_report, confusion_matrix,\n",
        "                           precision_score, recall_score, f1_score,\n",
        "                           roc_auc_score, roc_curve, precision_recall_curve)\n",
        "\n",
        "\n",
        "# Set up k-fold cross-validation with stratified sampling\n",
        "n_splits = 5\n",
        "stratified_kfold = StratifiedKFold(n_splits=n_splits, shuffle=True, random_state=42)\n",
        "\n",
        "print(f\"✓ {n_splits}-fold Stratified Cross-Validation configured\")\n",
        "print(f\"  - Maintains class distribution across folds\")\n",
        "print(f\"  - Shuffle enabled for better randomization\")"
      ]
    },
    {
      "cell_type": "markdown",
      "metadata": {
        "id": "VL0nfTIjKnW4"
      },
      "source": [
        "# ====================================\n",
        "# STEP 3: DEFINE THE THREE MODELS\n",
        "# ===================================="
      ]
    },
    {
      "cell_type": "code",
      "execution_count": null,
      "metadata": {
        "id": "w92Tq4TDKpsG"
      },
      "outputs": [],
      "source": [
        "models = [\n",
        "    (\"Logistic Regression\", LogisticRegression(class_weight='balanced',  # Automatically adjusts for class imbalance\n",
        "                                               max_iter=1000,            # Increase iterations for convergence\n",
        "                                              random_state=42)),\n",
        "    (\"Random Forest\", RandomForestClassifier(n_estimators=100,           # Number of trees\n",
        "                                             class_weight='balanced',    # Handle imbalanced data\n",
        "                                             max_depth=10,               # Prevent overfitting\n",
        "                                             min_samples_split=5,        # Minimum samples to split a node\n",
        "                                             random_state=42)),\n",
        "    (\"XGBoost\", XGBClassifier(n_estimators=100,\n",
        "                              max_depth=6,\n",
        "                              learning_rate=0.1,\n",
        "                              scale_pos_weight=2.76,  # Ratio of negative to positive class (5163/1869 ≈ 2.76)\n",
        "                              random_state=42,\n",
        "                              eval_metric='logloss'))\n",
        "]\n",
        "\n",
        "print(\"Models to evaluate:\")\n",
        "for name, model in models:\n",
        "    print(f\"  ✓ {name}\")"
      ]
    },
    {
      "cell_type": "markdown",
      "metadata": {
        "id": "-CraCB1iKxS4"
      },
      "source": [
        "# ========================================================\n",
        "# STEP 4: STARTING CROSS-VALIDATION & CREATING FOLD SPLIT\n",
        "# ========================================================"
      ]
    },
    {
      "cell_type": "code",
      "execution_count": null,
      "metadata": {
        "id": "07e08qsTKyF1"
      },
      "outputs": [],
      "source": [
        "print(\"Starting Cross-Validation...\")\n",
        "print(\"-\" * 30)\n",
        "\n",
        "for fold, (train_index, val_index) in enumerate(stratified_kfold.split(X_train_scaled, y_train), 1):\n",
        "    print(f\"\\n📂 FOLD {fold}/{n_splits}\")\n",
        "    print(\"-\" * 20)\n",
        "\n",
        "    # Create fold splits\n",
        "    X_train_fold, X_val_fold = X_train_scaled[train_index], X_train_scaled[val_index]\n",
        "    y_train_fold, y_val_fold = y_train.iloc[train_index], y_train.iloc[val_index]\n",
        "\n",
        "    print(f\"Train fold size: {len(X_train_fold)}, Validation fold size: {len(X_val_fold)}\")"
      ]
    },
    {
      "cell_type": "markdown",
      "metadata": {
        "id": "_HR9pNTCLCLe"
      },
      "source": [
        "# =====================================================================\n",
        "# STEP 5:\n",
        "- TRAINING THE MODEL ON TRAIN FOLD DATA SET\n",
        "- EVALUATE ON VALIDATION SET\n",
        "# ==================================================================="
      ]
    },
    {
      "cell_type": "code",
      "execution_count": null,
      "metadata": {
        "id": "C1iKfNG5LI5l"
      },
      "outputs": [],
      "source": [
        "final_results = {}\n",
        "\n",
        "# Train each model on the training_fold set and evaluate on validation set\n",
        "for name, model in models:\n",
        "    print(f'\\n🎯 Training Fold: {name}')\n",
        "    print('-------------------------------------------------------')\n",
        "\n",
        "    # Fit the model on training fold data\n",
        "    model.fit(X_train_fold, y_train_fold)\n",
        "\n",
        "\n",
        "    # Make predictions on training and validation data\n",
        "    y_train_hat = model.predict(X_train_fold)\n",
        "    y_val_hat = model.predict(X_val_fold)\n",
        "\n",
        "\n",
        "\n",
        "    # Get prediction probabilities for ROC calculations\n",
        "    try:\n",
        "        y_train_proba = model.predict_proba(X_train_fold)[:, 1]\n",
        "        y_val_proba = model.predict_proba(X_val_fold)[:, 1]\n",
        "        has_proba = True\n",
        "    except AttributeError:\n",
        "        y_train_proba = None\n",
        "        y_val_proba = None\n",
        "        has_proba = False\n",
        "\n",
        "    # Calculate comprehensive metrics\n",
        "    train_precision = precision_score(y_train_fold, y_train_hat)\n",
        "    train_recall = recall_score(y_train_fold, y_train_hat)\n",
        "    train_f1 = f1_score(y_train_fold, y_train_hat)\n",
        "\n",
        "    val_precision = precision_score(y_val_fold, y_val_hat)\n",
        "    val_recall = recall_score(y_val_fold, y_val_hat)\n",
        "    val_f1 = f1_score(y_val_fold, y_val_hat)\n",
        "\n",
        "    if has_proba:\n",
        "        train_roc = roc_auc_score(y_train_fold, y_train_proba)\n",
        "        val_roc = roc_auc_score(y_val_fold, y_val_proba)\n",
        "    else:\n",
        "        train_roc = None\n",
        "        val_roc = None\n",
        "\n",
        "    # Store results\n",
        "    final_results[name] = {\n",
        "        'model': model,\n",
        "        'train_precision': train_precision,\n",
        "        'train_recall': train_recall,\n",
        "        'train_f1': train_f1,\n",
        "        'train_roc': train_roc,\n",
        "        'val_precision': val_precision,\n",
        "        'val_recall': val_recall,\n",
        "        'val_f1': val_f1,\n",
        "        'val_roc': val_roc,\n",
        "        'y_train_hat': y_train_hat,\n",
        "        'y_test_hat': y_val_hat,\n",
        "        'y_train_proba': y_train_proba,\n",
        "        'y_val_proba': y_val_proba\n",
        "    }\n",
        "\n",
        "    # Print model details\n",
        "    print(f'Model Configuration: {model}')\n",
        "\n",
        "    # Training Fold Performance\n",
        "    print('\\n📈 Train Performance')\n",
        "    print('-------------------------------------------------------')\n",
        "    print(classification_report(y_train_fold, y_train_hat))\n",
        "\n",
        "    # Validation Fold Performance\n",
        "    print('📊 Validation Performance')\n",
        "    print('-------------------------------------------------------')\n",
        "    print(classification_report(y_val_fold, y_val_hat))\n",
        "\n",
        "    # ROC AUC score\n",
        "    print('🎯 ROC AUC Scores')\n",
        "    print('-------------------------------------------------------')\n",
        "    if has_proba:\n",
        "        print(f'Train ROC AUC: {train_roc:.4f}')\n",
        "        print(f'Validation ROC AUC: {val_roc:.4f}')\n",
        "    else:\n",
        "        print('ROC AUC not available for this model')\n",
        "\n",
        "    # Confusion matrix for the Validation set\n",
        "    print('\\n🔍 Confusion Matrix (Validation Set)')\n",
        "    print('-------------------------------------------------------')\n",
        "    cm = confusion_matrix(y_val_fold, y_val_hat)\n",
        "    print(cm)\n",
        "    print('\\n' + '='*80)"
      ]
    },
    {
      "cell_type": "markdown",
      "metadata": {
        "id": "E83cq7JGLOp9"
      },
      "source": [
        "# =====================================\n",
        "# STEP 6: COMPREHENSIVE VISUALIZATIONS\n",
        "# ====================================="
      ]
    },
    {
      "cell_type": "code",
      "execution_count": null,
      "metadata": {
        "id": "oNAkPWomLPdt"
      },
      "outputs": [],
      "source": [
        "print('\\t\\t\\t\\t\\tTraining Fold vs Validation Fold Analysis Dashboard')\n",
        "# Create comprehensive visualization dashboard for training fold vs validation fold\n",
        "fig1 = plt.figure(figsize=(30, 25))\n",
        "\n",
        "# 1. Training vs Validation Performance Comparison\n",
        "ax1 = fig1.add_subplot(4, 2, 1) # Use add_subplot with the figure object\n",
        "model_names = [name for name, _ in models]\n",
        "train_f1_scores = [final_results[name]['train_f1'] for name in model_names]\n",
        "val_f1_scores = [final_results[name]['val_f1'] for name in model_names]\n",
        "\n",
        "x_pos = np.arange(len(model_names))\n",
        "width = 0.50\n",
        "\n",
        "ax1.bar(x_pos - width/2, train_f1_scores, width, label='Training Fold F1', alpha=0.8, color='skyblue')\n",
        "ax1.bar(x_pos + width/2, val_f1_scores, width, label='Validation Fold F1', alpha=0.8, color='lightcoral')\n",
        "ax1.set_xlabel('Models')\n",
        "ax1.set_ylabel('F1 Score')\n",
        "ax1.set_title('Training vs Validation F1 Performance')\n",
        "ax1.set_xticks(x_pos)\n",
        "ax1.set_xticklabels(model_names, rotation=0)\n",
        "ax1.legend()\n",
        "ax1.grid(True, alpha=0.3)\n",
        "\n",
        "# 2. Validation Fold Performance Metrics Comparison\n",
        "ax2 = fig1.add_subplot(4, 2, 2) # Use add_subplot\n",
        "metrics = ['Precision', 'Recall', 'F1-Score']\n",
        "x_pos = np.arange(len(metrics))\n",
        "width = 0.35\n",
        "\n",
        "for i, name in enumerate(model_names):\n",
        "    values = [final_results[name]['val_precision'],\n",
        "             final_results[name]['val_recall'],\n",
        "             final_results[name]['val_f1']]\n",
        "    ax2.bar(x_pos + i*width, values, width, label=name, alpha=0.8)\n",
        "\n",
        "ax2.set_title('Validation Fold Performance Metrics')\n",
        "ax2.set_xlabel('Metrics')\n",
        "ax2.set_ylabel('Score')\n",
        "ax2.set_xticks(x_pos + width)\n",
        "ax2.set_xticklabels(metrics)\n",
        "ax2.legend()\n",
        "ax2.grid(True, alpha=0.3)\n",
        "\n",
        "# 3. ROC Curves for Validation Fold\n",
        "ax3 = fig1.add_subplot(4, 2, 3) # Use add_subplot\n",
        "for name in model_names:\n",
        "    if final_results[name]['y_val_proba'] is not None:\n",
        "        fpr, tpr, _ = roc_curve(y_val_fold, final_results[name]['y_val_proba'])\n",
        "        roc_auc = final_results[name]['val_roc']\n",
        "        ax3.plot(fpr, tpr, label=f'{name} (AUC = {roc_auc:.3f})', linewidth=2)\n",
        "\n",
        "ax3.plot([0, 1], [0, 1], 'k--', label='Random Classifier')\n",
        "ax3.set_xlabel('False Positive Rate')\n",
        "ax3.set_ylabel('True Positive Rate')\n",
        "ax3.set_title('ROC Curves - Validation Fold')\n",
        "ax3.legend()\n",
        "ax3.grid(True, alpha=0.3)\n",
        "\n",
        "# 4. Precision-Recall Curves for Validation Fold\n",
        "ax4 = fig1.add_subplot(4, 2, 4) # Use add_subplot\n",
        "for name in model_names:\n",
        "    if final_results[name]['y_val_proba'] is not None:\n",
        "        precision_vals, recall_vals, _ = precision_recall_curve(y_val_fold, final_results[name]['y_val_proba'])\n",
        "        ax4.plot(recall_vals, precision_vals, label=f'{name}', linewidth=2)\n",
        "\n",
        "ax4.set_xlabel('Recall')\n",
        "ax4.set_ylabel('Precision')\n",
        "ax4.set_title('Precision-Recall Curves - Validation Fold')\n",
        "ax4.legend()\n",
        "ax4.grid(True, alpha=0.3)\n",
        "\n",
        "# 5-7. Confusion Matrices for Validation Fold\n",
        "for i, name in enumerate(model_names):\n",
        "    ax = fig1.add_subplot(4, 2, 5 + i) # Use add_subplot\n",
        "    cm = confusion_matrix(y_val_fold, final_results[name]['y_test_hat'])\n",
        "    sns.heatmap(cm, annot=True, fmt='d', cmap='Blues', ax=ax)\n",
        "    ax.set_title(f'{name} - Validation Fold')\n",
        "    ax.set_xlabel('Predicted')\n",
        "    ax.set_ylabel('Actual')\n",
        "\n",
        "# --- Figure 2: ROC-AUC and Feature Importance ---\n",
        "fig2 = plt.figure(figsize=(15, 10)) # New figure, adjusted size for 2 plots\n",
        "\n",
        "# 8. ROC-AUC Comparison (Training vs Validation)\n",
        "ax8 = fig2.add_subplot(1, 2, 1) # 1 row, 2 columns, position 1\n",
        "train_roc_scores = [final_results[name]['train_roc'] for name in model_names if final_results[name]['train_roc'] is not None]\n",
        "val_roc_scores = [final_results[name]['val_roc'] for name in model_names if final_results[name]['val_roc'] is not None]\n",
        "valid_models = [name for name in model_names if final_results[name]['train_roc'] is not None]\n",
        "\n",
        "if train_roc_scores and val_roc_scores:\n",
        "    x_pos = np.arange(len(valid_models))\n",
        "    width = 0.35\n",
        "\n",
        "    ax8.bar(x_pos - width/2, train_roc_scores, width, label='Training Fold ROC-AUC', alpha=0.8, color='green')\n",
        "    ax8.bar(x_pos + width/2, val_roc_scores, width, label='Validation Fold ROC-AUC', alpha=0.8, color='orange')\n",
        "    ax8.set_title('ROC-AUC: Training vs Validation')\n",
        "    ax8.set_xlabel('Models')\n",
        "    ax8.set_ylabel('ROC-AUC Score')\n",
        "    ax8.set_xticks(x_pos)\n",
        "    ax8.set_xticklabels(valid_models, rotation=45)\n",
        "    ax8.legend()\n",
        "    ax8.grid(True, alpha=0.3)\n",
        "\n",
        "# 9. Feature Importance (for applicable models)\n",
        "ax9 = fig2.add_subplot(1, 2, 2) # 1 row, 2 columns, position 2\n",
        "feature_names = X.columns.tolist()\n",
        "\n",
        "# Show Random Forest feature importance if available\n",
        "for name in model_names:\n",
        "    if name == 'Random Forest' and name in final_results:\n",
        "        importance = final_results[name]['model'].feature_importances_\n",
        "        indices = np.argsort(importance)[::-1][:10]  # Top 10\n",
        "\n",
        "        ax9.bar(range(10), importance[indices], alpha=0.7, color='purple')\n",
        "        ax9.set_title('Random Forest - Top 10 Features')\n",
        "        ax9.set_xlabel('Features')\n",
        "        ax9.set_ylabel('Feature Importance Score')\n",
        "        ax9.set_xticks(range(10))\n",
        "        ax9.set_xticklabels([feature_names[i] for i in indices], rotation=45)\n",
        "        break\n",
        "\n",
        "plt.tight_layout()\n",
        "plt.show()"
      ]
    },
    {
      "cell_type": "markdown",
      "metadata": {
        "id": "Q5gx8fMOLZBW"
      },
      "source": [
        "# ===============================================================\n",
        "# STEP 7: PERFORMANCE SUMMARY & BUSINESS IMPACT ANALYSIS\n",
        "# ==============================================================="
      ]
    },
    {
      "cell_type": "code",
      "execution_count": null,
      "metadata": {
        "id": "AufhjHjsLZyO"
      },
      "outputs": [],
      "source": [
        "# Create final comparison table based on training fold vs validation fold\n",
        "final_comparison = []\n",
        "for name in model_names:\n",
        "    final_comparison.append({\n",
        "        'Model': name,\n",
        "        'Train Fold Precision': final_results[name]['train_precision'],\n",
        "        'Train Fold Recall': final_results[name]['train_recall'],\n",
        "        'Train Fold F1': final_results[name]['train_f1'],\n",
        "        'Train Fold ROC-AUC': final_results[name]['train_roc'] if final_results[name]['train_roc'] else 'N/A',\n",
        "        'Val Fold Precision': final_results[name]['val_precision'],\n",
        "        'Val Fold Recall': final_results[name]['val_recall'],\n",
        "        'Val Fold F1': final_results[name]['val_f1'],\n",
        "        'Val Fold ROC-AUC': final_results[name]['val_roc'] if final_results[name]['val_roc'] else 'N/A'\n",
        "    })\n",
        "\n",
        "final_df = pd.DataFrame(final_comparison)\n",
        "print(\"\\n📊 TRAINING FOLD vs VALIDATION FOLD COMPARISON:\")\n",
        "print(\"-\" * 60)\n",
        "print(final_df.round(4))\n",
        "\n",
        "\n",
        "\n",
        "# Identify best model based on validation fold ROC-AUC\n",
        "numeric_roc = []\n",
        "for idx, row in final_df.iterrows():\n",
        "    if row['Val Fold ROC-AUC'] != 'N/A':\n",
        "        numeric_roc.append((idx, row['Val Fold ROC-AUC']))\n",
        "\n",
        "if numeric_roc:\n",
        "    best_idx = max(numeric_roc, key=lambda x: x[1])[0]\n",
        "    best_model_name = final_df.iloc[best_idx]['Model']\n",
        "    best_val_roc = final_df.iloc[best_idx]['Val Fold ROC-AUC']\n",
        "    best_val_f1 = final_df.iloc[best_idx]['Val Fold F1']\n",
        "\n",
        "    print(f\"\\n🏆 BEST MODEL: {best_model_name}\")\n",
        "    print(f\"   Validation Fold ROC-AUC: {best_val_roc:.4f}\")\n",
        "    print(f\"   Validation Fold F1-Score: {best_val_f1:.4f}\")"
      ]
    },
    {
      "cell_type": "code",
      "execution_count": null,
      "metadata": {
        "id": "wZy-k3t3Lp_8"
      },
      "outputs": [],
      "source": [
        "# Calculate business metrics for the best model\n",
        "best_model = final_results[best_model_name]\n",
        "best_predictions = best_model['y_test_hat']\n",
        "best_probabilities = best_model['y_val_proba']\n",
        "\n",
        "# Confusion matrix elements\n",
        "tn, fp, fn, tp = confusion_matrix(y_val_fold, best_predictions).ravel()\n",
        "\n",
        "print(f\"\\n📈 BUSINESS IMPACT - {best_model_name}\")\n",
        "print(\"-\" * 50)\n",
        "print(f\"True Positives (Correctly identified churners): {tp}\")\n",
        "print(f\"False Positives (Incorrectly flagged as churners): {fp}\")\n",
        "print(f\"True Negatives (Correctly identified non-churners): {tn}\")\n",
        "print(f\"False Negatives (Missed churners): {fn}\")\n"
      ]
    },
    {
      "cell_type": "code",
      "execution_count": null,
      "metadata": {
        "id": "e40T84oHLrqf"
      },
      "outputs": [],
      "source": [
        "from sklearn.model_selection import GridSearchCV, RandomizedSearchCV\n",
        "from sklearn.metrics import make_scorer, fbeta_score, average_precision_score, accuracy_score\n",
        "import numpy as np\n",
        "import pandas as pd\n",
        "from datetime import datetime\n",
        "import warnings\n",
        "warnings.filterwarnings('ignore')"
      ]
    },
    {
      "cell_type": "markdown",
      "metadata": {
        "id": "8DEZP0M3v3sx"
      },
      "source": [
        "================================================================================\n",
        "## RANDOM FOREST HYPERPARAMETER TUNING\n",
        "================================================================================"
      ]
    },
    {
      "cell_type": "code",
      "execution_count": null,
      "metadata": {
        "id": "wVvqMciTN9nF"
      },
      "outputs": [],
      "source": [
        "# Define comprehensive hyperparameter grid for Random Forest\n",
        "rf_param_grid = {\n",
        "    'n_estimators': [50, 100, 200, 300, 500],\n",
        "    'max_depth': [3, 5, 10, 15, 20, 25, None],\n",
        "    'min_samples_split': [2, 5, 10, 15, 20],\n",
        "    'min_samples_leaf': [1, 2, 4, 6, 8],\n",
        "    'max_features': ['sqrt', 'log2', None, 0.3, 0.5, 0.7],\n",
        "    'bootstrap': [True, False],\n",
        "    'class_weight': ['balanced', 'balanced_subsample', {0: 1, 1: 2}, {0: 1, 1: 3}],\n",
        "    'criterion': ['gini', 'entropy'],\n",
        "    'max_samples': [None, 0.7, 0.8, 0.9]\n",
        "}"
      ]
    },
    {
      "cell_type": "code",
      "execution_count": null,
      "metadata": {
        "id": "lipGljtLN9sk"
      },
      "outputs": [],
      "source": [
        "# Custom scoring functions for comprehensive evaluation\n",
        "def business_score(y_true, y_pred):\n",
        "    \"\"\"Custom business-focused scoring function for churn prediction\"\"\"\n",
        "    tn, fp, fn, tp = confusion_matrix(y_true, y_pred).ravel()\n",
        "\n",
        "    # Business costs (adjust these based on your business context)\n",
        "    false_positive_cost = 50    # Cost of incorrectly flagging a customer for retention\n",
        "    false_negative_cost = 500   # Cost of losing a customer to churn\n",
        "    true_positive_benefit = 200 # Benefit of correctly identifying and retaining a churner\n",
        "\n",
        "    total_cost = (fp * false_positive_cost) + (fn * false_negative_cost)\n",
        "    total_benefit = tp * true_positive_benefit\n",
        "\n",
        "    return (total_benefit - total_cost) / len(y_true)\n",
        "\n",
        "# Define multiple scoring metrics for Random Forest evaluation\n",
        "scoring_metrics = {\n",
        "    'roc_auc': 'roc_auc',\n",
        "    'f1': 'f1',\n",
        "    'precision': 'precision',\n",
        "    'recall': 'recall',\n",
        "    'f2': make_scorer(fbeta_score, beta=2),  # Emphasizes recall (important for churn)\n",
        "    'business_score': make_scorer(business_score, greater_is_better=True),\n",
        "    'average_precision': 'average_precision'\n",
        "}"
      ]
    },
    {
      "cell_type": "code",
      "execution_count": null,
      "metadata": {
        "id": "w_oRE0vbN9xz"
      },
      "outputs": [],
      "source": [
        "# ===============================================================\n",
        "# STEP 9: PERFORM RANDOM FOREST HYPERPARAMETER TUNING\n",
        "# ===============================================================\n",
        "\n",
        "print(\"🌲 Starting Random Forest Hyperparameter Optimization...\")\n",
        "print(\"-\" * 50)\n",
        "\n",
        "# Initialize Random Forest classifier\n",
        "rf_base = RandomForestClassifier(random_state=42, n_jobs=-1)\n",
        "\n",
        "# Use RandomizedSearchCV for efficiency (large parameter space)\n",
        "print(\"Using RandomizedSearchCV for efficient parameter search...\")\n",
        "\n",
        "rf_random_search = RandomizedSearchCV(\n",
        "    estimator=rf_base,\n",
        "    param_distributions=rf_param_grid,\n",
        "    n_iter=100,  # Number of parameter combinations to try\n",
        "    cv=stratified_kfold,\n",
        "    scoring=scoring_metrics,\n",
        "    refit='roc_auc',  # Primary metric for model selection\n",
        "    n_jobs=-1,\n",
        "    verbose=2,\n",
        "    random_state=42,\n",
        "    return_train_score=True\n",
        ")"
      ]
    },
    {
      "cell_type": "code",
      "execution_count": 142,
      "metadata": {
        "colab": {
          "base_uri": "https://localhost:8080/"
        },
        "id": "HWBPFuE0OueY",
        "outputId": "4305e04e-e181-4067-b2f6-a40e0e49f084"
      },
      "outputs": [
        {
          "output_type": "stream",
          "name": "stdout",
          "text": [
            "Starting hyperparameter optimization...\n",
            "Fitting 5 folds for each of 100 candidates, totalling 500 fits\n",
            "\n",
            "✅ Random Forest tuning completed in 0:08:05.276374\n",
            "🏆 Best parameters found:\n",
            "   n_estimators: 500\n",
            "   min_samples_split: 5\n",
            "   min_samples_leaf: 8\n",
            "   max_samples: 0.9\n",
            "   max_features: log2\n",
            "   max_depth: 10\n",
            "   criterion: gini\n",
            "   class_weight: balanced_subsample\n",
            "   bootstrap: True\n",
            "\n",
            "📊 Best cross-validation scores:\n",
            "   ROC-AUC: 0.8489\n",
            "   ROC_AUC: 0.8489 (+/- 0.0287)\n",
            "   F1: 0.6336 (+/- 0.0333)\n",
            "   PRECISION: 0.5546 (+/- 0.0291)\n",
            "   RECALL: 0.7393 (+/- 0.0525)\n",
            "   F2: 0.6930 (+/- 0.0423)\n",
            "   BUSINESS_SCORE: -3.2383 (+/- 9.7183)\n",
            "   AVERAGE_PRECISION: 0.6741 (+/- 0.0844)\n"
          ]
        }
      ],
      "source": [
        "# Fit the randomized search\n",
        "print(\"Starting hyperparameter optimization...\")\n",
        "start_time = datetime.now()\n",
        "rf_random_search.fit(X_train_scaled, y_train)\n",
        "end_time = datetime.now()\n",
        "\n",
        "print(f\"\\n✅ Random Forest tuning completed in {end_time - start_time}\")\n",
        "print(f\"🏆 Best parameters found:\")\n",
        "for param, value in rf_random_search.best_params_.items():\n",
        "    print(f\"   {param}: {value}\")\n",
        "\n",
        "print(f\"\\n📊 Best cross-validation scores:\")\n",
        "print(f\"   ROC-AUC: {rf_random_search.best_score_:.4f}\")\n",
        "\n",
        "# Get all scoring results for the best model\n",
        "best_index = rf_random_search.best_index_\n",
        "cv_results = rf_random_search.cv_results_\n",
        "\n",
        "for score_name in scoring_metrics.keys():\n",
        "    mean_score = cv_results[f'mean_test_{score_name}'][best_index]\n",
        "    std_score = cv_results[f'std_test_{score_name}'][best_index]\n",
        "    print(f\"   {score_name.upper()}: {mean_score:.4f} (+/- {std_score * 2:.4f})\")\n"
      ]
    },
    {
      "cell_type": "code",
      "execution_count": 143,
      "metadata": {
        "id": "0pTu4PVSOun8",
        "colab": {
          "base_uri": "https://localhost:8080/"
        },
        "outputId": "c0f4a431-f339-4fa7-c499-555452719cd8"
      },
      "outputs": [
        {
          "output_type": "stream",
          "name": "stdout",
          "text": [
            "\n",
            "📊 COMPREHENSIVE RANDOM FOREST EVALUATION\n",
            "============================================================\n",
            "🎯 FINAL RANDOM FOREST TEST SET PERFORMANCE:\n",
            "---------------------------------------------\n",
            "Accuracy          : 0.7588\n",
            "Precision         : 0.5333\n",
            "Recall            : 0.7415\n",
            "F1-Score          : 0.6204\n",
            "F2-Score          : 0.6878\n",
            "ROC-AUC           : 0.8354\n",
            "Average Precision : 0.6336\n",
            "\n",
            "📋 DETAILED CLASSIFICATION REPORT:\n",
            "----------------------------------------\n",
            "              precision    recall  f1-score   support\n",
            "\n",
            "    No Churn       0.89      0.77      0.82      1549\n",
            "       Churn       0.53      0.74      0.62       561\n",
            "\n",
            "    accuracy                           0.76      2110\n",
            "   macro avg       0.71      0.75      0.72      2110\n",
            "weighted avg       0.80      0.76      0.77      2110\n",
            "\n",
            "\n",
            "🔍 CONFUSION MATRIX ANALYSIS:\n",
            "----------------------------------------\n",
            "True Negatives (Correctly predicted no churn): 1185\n",
            "False Positives (Incorrectly predicted churn): 364\n",
            "False Negatives (Missed churners): 145\n",
            "True Positives (Correctly predicted churn): 416\n"
          ]
        }
      ],
      "source": [
        "# ===============================================================\n",
        "# STEP 10: COMPREHENSIVE RANDOM FOREST EVALUATION\n",
        "# ===============================================================\n",
        "\n",
        "print(\"\\n📊 COMPREHENSIVE RANDOM FOREST EVALUATION\")\n",
        "print(\"=\" * 60)\n",
        "\n",
        "# Get the best tuned Random Forest model\n",
        "best_rf_model = rf_random_search.best_estimator_\n",
        "\n",
        "# Train on full training set and evaluate on test set\n",
        "best_rf_model.fit(X_train_scaled, y_train)\n",
        "\n",
        "# Make predictions on test set\n",
        "y_test_pred = best_rf_model.predict(X_test_scaled)\n",
        "y_test_proba = best_rf_model.predict_proba(X_test_scaled)[:, 1]\n",
        "\n",
        "# Calculate comprehensive metrics on test set\n",
        "test_metrics = {\n",
        "    'Accuracy': accuracy_score(y_test, y_test_pred),\n",
        "    'Precision': precision_score(y_test, y_test_pred),\n",
        "    'Recall': recall_score(y_test, y_test_pred),\n",
        "    'F1-Score': f1_score(y_test, y_test_pred),\n",
        "    'F2-Score': fbeta_score(y_test, y_test_pred, beta=2),\n",
        "    'ROC-AUC': roc_auc_score(y_test, y_test_proba),\n",
        "    'Average Precision': average_precision_score(y_test, y_test_proba),\n",
        "}\n",
        "\n",
        "print(\"🎯 FINAL RANDOM FOREST TEST SET PERFORMANCE:\")\n",
        "print(\"-\" * 45)\n",
        "for metric, value in test_metrics.items():\n",
        "    print(f\"{metric:18}: {value:.4f}\")\n",
        "\n",
        "# Detailed classification report\n",
        "print(\"\\n📋 DETAILED CLASSIFICATION REPORT:\")\n",
        "print(\"-\" * 40)\n",
        "print(classification_report(y_test, y_test_pred, target_names=['No Churn', 'Churn']))\n",
        "\n",
        "# Confusion matrix analysis\n",
        "cm_test = confusion_matrix(y_test, y_test_pred)\n",
        "tn, fp, fn, tp = cm_test.ravel()\n",
        "\n",
        "print(f\"\\n🔍 CONFUSION MATRIX ANALYSIS:\")\n",
        "print(\"-\" * 40)\n",
        "print(f\"True Negatives (Correctly predicted no churn): {tn}\")\n",
        "print(f\"False Positives (Incorrectly predicted churn): {fp}\")\n",
        "print(f\"False Negatives (Missed churners): {fn}\")\n",
        "print(f\"True Positives (Correctly predicted churn): {tp}\")\n",
        "\n"
      ]
    },
    {
      "cell_type": "code",
      "execution_count": 144,
      "metadata": {
        "id": "TSwEDuN1Ousp",
        "colab": {
          "base_uri": "https://localhost:8080/"
        },
        "outputId": "e14fedc2-6ab7-4a36-9123-070681e91134"
      },
      "outputs": [
        {
          "output_type": "stream",
          "name": "stdout",
          "text": [
            "\n",
            "🌲 RANDOM FOREST SPECIFIC ANALYSIS\n",
            "============================================================\n",
            "🔍 TOP 10 MOST IMPORTANT FEATURES:\n",
            "---------------------------------------------\n",
            " 1. Contract                       0.2077\n",
            " 2. Tenure                         0.1501\n",
            " 3. TotalCharges                   0.1149\n",
            " 4. MonthlyCharges                 0.1098\n",
            " 5. OnlineSecurity                 0.0957\n",
            " 6. TechSupport                    0.0781\n",
            " 7. InternetService                0.0581\n",
            " 8. PaymentMethod                  0.0348\n",
            " 9. OnlineBackup                   0.0314\n",
            "10. DeviceProtection               0.0194\n"
          ]
        }
      ],
      "source": [
        "# ===============================================================\n",
        "# STEP 11: RANDOM FOREST SPECIFIC ANALYSIS\n",
        "# ===============================================================\n",
        "\n",
        "print(\"\\n🌲 RANDOM FOREST SPECIFIC ANALYSIS\")\n",
        "print(\"=\" * 60)\n",
        "\n",
        "# Feature importance analysis\n",
        "feature_names = X.columns.tolist()\n",
        "importances = best_rf_model.feature_importances_\n",
        "feature_importance = pd.DataFrame({\n",
        "    'feature': feature_names,\n",
        "    'importance': importances\n",
        "}).sort_values('importance', ascending=False)\n",
        "\n",
        "print(\"🔍 TOP 10 MOST IMPORTANT FEATURES:\")\n",
        "print(\"-\" * 45)\n",
        "for i, (_, row) in enumerate(feature_importance.head(10).iterrows(), 1):\n",
        "    print(f\"{i:2d}. {row['feature']:30} {row['importance']:.4f}\")\n",
        "\n"
      ]
    },
    {
      "cell_type": "markdown",
      "metadata": {
        "id": "Hy1rY4Zck6iV"
      },
      "source": [
        "# ===============================================================\n",
        "# STEP 11: RANDOM FOREST VISUALIZATIONS\n",
        "# ==============================================================="
      ]
    },
    {
      "cell_type": "code",
      "execution_count": 145,
      "metadata": {
        "id": "N8gHwGBQjJzO",
        "colab": {
          "base_uri": "https://localhost:8080/",
          "height": 1000
        },
        "outputId": "8d1ad617-8d2c-473f-8c8b-a5075ed0e79c"
      },
      "outputs": [
        {
          "output_type": "stream",
          "name": "stdout",
          "text": [
            "\n",
            "🌲 RANDOM FOREST DASHBOARD\n",
            "============================================================\n"
          ]
        },
        {
          "output_type": "display_data",
          "data": {
            "text/plain": [
              "<Figure size 1800x1200 with 7 Axes>"
            ],
            "image/png": "[encoded data removed]"
          },
          "metadata": {}
        }
      ],
      "source": [
        "print(\"\\n🌲 RANDOM FOREST DASHBOARD\")\n",
        "print(\"=\" * 60)\n",
        "\n",
        "# Create comprehensive visualizations\n",
        "import matplotlib.pyplot as plt\n",
        "import seaborn as sns\n",
        "from sklearn.metrics import roc_curve, precision_recall_curve\n",
        "\n",
        "# Set up the plotting style\n",
        "plt.style.use('default')\n",
        "sns.set_palette(\"husl\")\n",
        "\n",
        "# Create a figure with proper subplot arrangement\n",
        "fig = plt.figure(figsize=(18, 12))\n",
        "\n",
        "# 1. CONFUSION MATRIX HEATMAP\n",
        "ax1 = plt.subplot(2, 3, 1)\n",
        "sns.heatmap(cm_test, annot=True, fmt='d', cmap='Blues', ax=ax1,\n",
        "            cbar_kws={'label': 'Count'}, annot_kws={'size': 14})\n",
        "ax1.set_title('Random Forest - Confusion Matrix\\n(Test Set)', fontsize=14, fontweight='bold')\n",
        "ax1.set_xlabel('Predicted Label', fontsize=12)\n",
        "ax1.set_ylabel('Actual Label', fontsize=12)\n",
        "ax1.set_xticklabels(['No Churn', 'Churn'], fontsize=11)\n",
        "ax1.set_yticklabels(['No Churn', 'Churn'], fontsize=11)\n",
        "\n",
        "# Add percentage annotations\n",
        "total = cm_test.sum()\n",
        "for i in range(cm_test.shape[0]):\n",
        "    for j in range(cm_test.shape[1]):\n",
        "        percentage = cm_test[i, j] / total * 100\n",
        "        ax1.text(j + 0.5, i + 0.7, f'({percentage:.1f}%)',\n",
        "                ha='center', va='center', fontsize=10, color='darkred')\n",
        "\n",
        "# 2. TOP 10 FEATURE IMPORTANCE BAR PLOT\n",
        "ax2 = plt.subplot(2, 3, 2)\n",
        "top_10_features = feature_importance.head(10)\n",
        "bars = ax2.barh(range(len(top_10_features)), top_10_features['importance'],\n",
        "                color='forestgreen', alpha=0.8)\n",
        "ax2.set_yticks(range(len(top_10_features)))\n",
        "ax2.set_yticklabels(top_10_features['feature'], fontsize=10)\n",
        "ax2.set_xlabel('Feature Importance', fontsize=12)\n",
        "ax2.set_title('Top 10 Most Important Features\\n(Random Forest)', fontsize=14, fontweight='bold')\n",
        "ax2.grid(True, axis='x', alpha=0.3)\n",
        "\n",
        "# Add value labels on bars\n",
        "for i, bar in enumerate(bars):\n",
        "    width = bar.get_width()\n",
        "    ax2.text(width + 0.001, bar.get_y() + bar.get_height()/2,\n",
        "             f'{width:.3f}', ha='left', va='center', fontsize=9)\n",
        "\n",
        "# Invert y-axis to show most important feature at top\n",
        "ax2.invert_yaxis()\n",
        "\n",
        "# 3. ROC CURVE\n",
        "ax3 = plt.subplot(2, 3, 3)\n",
        "fpr, tpr, _ = roc_curve(y_test, y_test_proba)\n",
        "roc_auc = test_metrics['ROC-AUC']\n",
        "ax3.plot(fpr, tpr, color='darkorange', lw=2,\n",
        "         label=f'RF ROC Curve (AUC = {roc_auc:.3f})')\n",
        "ax3.plot([0, 1], [0, 1], color='navy', lw=2, linestyle='--', label='Random Classifier')\n",
        "ax3.set_xlim([0.0, 1.0])\n",
        "ax3.set_ylim([0.0, 1.05])\n",
        "ax3.set_xlabel('False Positive Rate', fontsize=12)\n",
        "ax3.set_ylabel('True Positive Rate', fontsize=12)\n",
        "ax3.set_title('ROC Curve - Random Forest', fontsize=14, fontweight='bold')\n",
        "ax3.legend(loc=\"lower right\")\n",
        "ax3.grid(True, alpha=0.3)\n",
        "\n",
        "# 4. PRECISION-RECALL CURVE\n",
        "ax4 = plt.subplot(2, 3, 4)\n",
        "precision_vals, recall_vals, _ = precision_recall_curve(y_test, y_test_proba)\n",
        "avg_precision = test_metrics['Average Precision']\n",
        "ax4.plot(recall_vals, precision_vals, color='darkgreen', lw=2,\n",
        "         label=f'PR Curve (AP = {avg_precision:.3f})')\n",
        "ax4.set_xlim([0.0, 1.0])\n",
        "ax4.set_ylim([0.0, 1.05])\n",
        "ax4.set_xlabel('Recall', fontsize=12)\n",
        "ax4.set_ylabel('Precision', fontsize=12)\n",
        "ax4.set_title('Precision-Recall Curve', fontsize=14, fontweight='bold')\n",
        "ax4.legend(loc=\"lower left\")\n",
        "ax4.grid(True, alpha=0.3)\n",
        "\n",
        "# 5. METRICS COMPARISON (if you have multiple models)\n",
        "ax5 = plt.subplot(2, 3, 5)\n",
        "metrics_names = ['Accuracy', 'Precision', 'Recall', 'F1-Score', 'ROC-AUC']\n",
        "metrics_values = [test_metrics['Accuracy'], test_metrics['Precision'],\n",
        "                 test_metrics['Recall'], test_metrics['F1-Score'], test_metrics['ROC-AUC']]\n",
        "bars = ax5.bar(metrics_names, metrics_values, color=['#FF6B6B', '#4ECDC4', '#45B7D1', '#96CEB4', '#FFEAA7'])\n",
        "ax5.set_ylim([0, 1])\n",
        "ax5.set_title('Random Forest Performance Metrics', fontsize=14, fontweight='bold')\n",
        "ax5.set_ylabel('Score', fontsize=12)\n",
        "plt.setp(ax5.get_xticklabels(), rotation=45, ha='right')\n",
        "\n",
        "# Add value labels on bars\n",
        "for bar, value in zip(bars, metrics_values):\n",
        "    height = bar.get_height()\n",
        "    ax5.text(bar.get_x() + bar.get_width()/2., height + 0.01,\n",
        "             f'{value:.3f}', ha='center', va='bottom', fontsize=10)\n",
        "\n",
        "# 6. FEATURE IMPORTANCE DISTRIBUTION\n",
        "ax6 = plt.subplot(2, 3, 6)\n",
        "ax6.hist(feature_importance['importance'], bins=20, color='skyblue', alpha=0.7, edgecolor='black')\n",
        "ax6.set_xlabel('Feature Importance', fontsize=12)\n",
        "ax6.set_ylabel('Number of Features', fontsize=12)\n",
        "ax6.set_title('Distribution of Feature Importance', fontsize=14, fontweight='bold')\n",
        "ax6.grid(True, alpha=0.3)\n",
        "\n",
        "# Adjust layout to prevent overlapping\n",
        "plt.tight_layout(pad=3.0)\n",
        "plt.show()\n",
        "\n"
      ]
    },
    {
      "cell_type": "code",
      "execution_count": 145,
      "metadata": {
        "id": "mQRhLJJ5Ou5K"
      },
      "outputs": [],
      "source": []
    },
    {
      "cell_type": "code",
      "execution_count": 145,
      "metadata": {
        "id": "fwKqNJfuOu9Z"
      },
      "outputs": [],
      "source": []
    },
    {
      "cell_type": "code",
      "execution_count": 145,
      "metadata": {
        "id": "tU-KmtUkOvB4"
      },
      "outputs": [],
      "source": []
    },
    {
      "cell_type": "code",
      "execution_count": 145,
      "metadata": {
        "id": "E4TdqLCcOvFr"
      },
      "outputs": [],
      "source": []
    },
    {
      "cell_type": "code",
      "execution_count": 145,
      "metadata": {
        "id": "26slRQ6COvJI"
      },
      "outputs": [],
      "source": []
    },
    {
      "cell_type": "code",
      "execution_count": 145,
      "metadata": {
        "id": "WocIyN0UN93H"
      },
      "outputs": [],
      "source": []
    },
    {
      "cell_type": "code",
      "execution_count": 146,
      "metadata": {
        "id": "LsEj2cnQ_wql"
      },
      "outputs": [],
      "source": [
        "from sklearn.ensemble import RandomForestClassifier\n",
        "from sklearn.model_selection import RandomizedSearchCV\n",
        "from sklearn.metrics import classification_report, roc_auc_score, confusion_matrix\n",
        "import numpy as np\n",
        "\n",
        "# Define the parameter grid\n",
        "param_dist = {\n",
        "    'n_estimators': np.arange(100, 1001, 100),         # number of trees\n",
        "    'max_depth': [None] + list(np.arange(5, 31, 5)),   # max depth of trees\n",
        "    'min_samples_split': [2, 5, 10],\n",
        "    'min_samples_leaf': [1, 2, 4],\n",
        "    'max_features': ['sqrt', 'log2', None]\n",
        "}\n"
      ]
    },
    {
      "cell_type": "code",
      "execution_count": 147,
      "metadata": {
        "id": "_L22WjJ4F74Y"
      },
      "outputs": [],
      "source": [
        "# Initialize the base model\n",
        "rf = RandomForestClassifier(random_state=42, class_weight='balanced')  # 'balanced' to help with imbalance\n",
        "\n",
        "# Set up RandomizedSearchCV\n",
        "search = RandomizedSearchCV(\n",
        "    estimator=rf,\n",
        "    param_distributions=param_dist,\n",
        "    n_iter=50,                    # number of different combinations to try\n",
        "    scoring='roc_auc',            # primary scoring metric\n",
        "    cv=5,                         # 5-fold cross-validation\n",
        "    random_state=42,\n",
        "    verbose=1,\n",
        "    n_jobs=-1                    # use all processors\n",
        ")\n",
        "\n"
      ]
    },
    {
      "cell_type": "code",
      "execution_count": null,
      "metadata": {
        "id": "JmYGlZNpF_Em",
        "colab": {
          "base_uri": "https://localhost:8080/"
        },
        "outputId": "305c4a1f-a67e-467a-cb3a-16ed3ff1050a"
      },
      "outputs": [
        {
          "output_type": "stream",
          "name": "stdout",
          "text": [
            "Fitting 5 folds for each of 50 candidates, totalling 250 fits\n"
          ]
        }
      ],
      "source": [
        "# Fit the model to training data\n",
        "search.fit(X_train_scaled, y_train)\n",
        "\n",
        "# Print the best hyperparameters\n",
        "print(\"Best Hyperparameters:\", search.best_params_)\n",
        "\n"
      ]
    },
    {
      "cell_type": "code",
      "execution_count": null,
      "metadata": {
        "id": "vBTe9IQUGTQu"
      },
      "outputs": [],
      "source": [
        "# Evaluate the best model\n",
        "best_rf = search.best_estimator_\n",
        "y_pred = best_rf.predict(X_test_scaled)\n",
        "y_proba = best_rf.predict_proba(X_test_scaled)[:, 1]\n",
        "\n",
        "# Evaluation\n",
        "print(\"\\nClassification Report:\\n\", classification_report(y_test, y_pred))\n",
        "print(\"ROC-AUC Score:\", roc_auc_score(y_test, y_proba))\n",
        "print(\"Confusion Matrix:\\n\", confusion_matrix(y_test, y_pred))"
      ]
    }
  ],
  "metadata": {
    "colab": {
      "provenance": [],
      "include_colab_link": true
    },
    "kernelspec": {
      "display_name": "Python 3",
      "name": "python3"
    },
    "language_info": {
      "name": "python"
    }
  },
  "nbformat": 4,
  "nbformat_minor": 0
}